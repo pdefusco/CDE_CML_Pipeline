{
 "cells": [
  {
   "cell_type": "markdown",
   "id": "9012761e",
   "metadata": {},
   "source": [
    "# Model Prototype"
   ]
  },
  {
   "cell_type": "markdown",
   "id": "fb4f1b35",
   "metadata": {},
   "source": [
    "### This notebook shows how to create a baseline model pipeline and save it"
   ]
  },
  {
   "cell_type": "markdown",
   "id": "1da0aed4",
   "metadata": {},
   "source": [
    "##### We save the Spark Dataframe as an Iceberg Table. Iceberg is a new open table format backed by Apple, Netflix and Cloudera. \n",
    "##### In the context of ML Ops, the most anticipated feature is Time Travel i.e. the ability to reproduce the data and the schema across different versions in time\n",
    "##### Finally, we create a simple PySpark pipeline and train a classifier with Keras/Tensorflow"
   ]
  },
  {
   "cell_type": "markdown",
   "id": "e1246c56",
   "metadata": {},
   "source": [
    "* For a more comprehensive demo of Iceberg in CML, please visit the [Spark3 Iceberg CML Github Repository](https://github.com/pdefusco/Spark3_Iceberg_CML)\n",
    "* For a more detailed introduction to CML Session, Notebooks, and Spark tips and trips please visit the [CML Total Beginner GitHub Repository](https://github.com/pdefusco/CML-Total-Beginner)\n",
    "* For a more comprehensive example of the Atlas Python client mentioned below, please visit the [Atlas Client Example Notebook in the Data Integration with ML GitHub Repository](https://github.com/pdefusco/Data_Integration_wMachineLearning/blob/main/2_A_Atlas_Client_Example.ipynb)"
   ]
  },
  {
   "cell_type": "code",
   "execution_count": 1,
   "id": "dbaee738",
   "metadata": {},
   "outputs": [],
   "source": [
    "from pyspark.sql import SparkSession\n",
    "from pyspark.sql.functions import *\n",
    "from sklearn.datasets import make_circles\n",
    "import tensorflow as tf\n",
    "import pandas as pd\n",
    "import seaborn as sns\n",
    "from utils.plot_decision_boundary import *\n",
    "from pyspark.ml import Pipeline\n",
    "from pyspark.ml.classification import RandomForestClassifier\n",
    "from pyspark.ml.feature import IndexToString, StringIndexer, VectorIndexer\n",
    "from pyspark.ml.evaluation import MulticlassClassificationEvaluator"
   ]
  },
  {
   "cell_type": "markdown",
   "id": "ac6efdef-6885-47de-96c2-c04340e5b622",
   "metadata": {},
   "source": [
    "#### The Spark Session is created with the following configurations. If you get an error, ensure your CML Session is using Runtimes and Spark 3.1."
   ]
  },
  {
   "cell_type": "code",
   "execution_count": 2,
   "id": "1ef66ed2",
   "metadata": {},
   "outputs": [],
   "source": [
    "spark = SparkSession.builder.master('local[*]')\\\n",
    "  .config(\"spark.jars.packages\",\"org.apache.iceberg:iceberg-spark3-runtime:0.12.1\")\\\n",
    "  .config(\"spark.sql.extensions\",\"org.apache.iceberg.spark.extensions.IcebergSparkSessionExtensions\")\\\n",
    "  .config(\"spark.sql.catalog.spark_catalog\",\"org.apache.iceberg.spark.SparkSessionCatalog\")\\\n",
    "  .config(\"spark.sql.catalog.spark_catalog.type\",\"hive\")\\\n",
    "  .config(\"spark.hadoop.fs.s3a.s3guard.ddb.region\",\"us-east-2\")\\\n",
    "  .config(\"spark.yarn.access.hadoopFileSystems\",\"s3a://gd01-uat2/\")\\\n",
    "  .getOrCreate()"
   ]
  },
  {
   "cell_type": "markdown",
   "id": "62f08e0e-b080-4185-9771-650cfbf89425",
   "metadata": {},
   "source": [
    "#### Loading the data..."
   ]
  },
  {
   "cell_type": "code",
   "execution_count": 3,
   "id": "095723d9",
   "metadata": {},
   "outputs": [],
   "source": [
    "# Load and parse the data file, converting it to a DataFrame.\n",
    "df = spark.read.csv('data/LoanStats_2015_subset_120321.csv',   \n",
    "    header=True,\n",
    "    sep=',',\n",
    "    nullValue='NA')"
   ]
  },
  {
   "cell_type": "markdown",
   "id": "be590540-10d7-47a7-aadd-e9e3bc85c9ef",
   "metadata": {},
   "source": [
    "#### Investigating Target Class Imbalance"
   ]
  },
  {
   "cell_type": "code",
   "execution_count": 4,
   "id": "74b918ed-1eac-477f-8e14-347a450df88e",
   "metadata": {},
   "outputs": [
    {
     "name": "stdout",
     "output_type": "stream",
     "text": [
      "+------------------+\n",
      "|       loan_status|\n",
      "+------------------+\n",
      "|        Fully Paid|\n",
      "|           Default|\n",
      "|   In Grace Period|\n",
      "|       Charged Off|\n",
      "|Late (31-120 days)|\n",
      "|           Current|\n",
      "|             10500|\n",
      "| Late (16-30 days)|\n",
      "+------------------+\n",
      "\n"
     ]
    }
   ],
   "source": [
    "df.select(\"loan_status\").distinct().show()"
   ]
  },
  {
   "cell_type": "code",
   "execution_count": 5,
   "id": "3b305246-684c-4d9c-9398-97f5592613e0",
   "metadata": {},
   "outputs": [
    {
     "name": "stdout",
     "output_type": "stream",
     "text": [
      "+------------------+-----+\n",
      "|       loan_status|count|\n",
      "+------------------+-----+\n",
      "|        Fully Paid|55312|\n",
      "|           Default|    4|\n",
      "|   In Grace Period| 1116|\n",
      "|       Charged Off|19719|\n",
      "|Late (31-120 days)| 2080|\n",
      "|           Current|66675|\n",
      "|             10500|    1|\n",
      "| Late (16-30 days)|  425|\n",
      "+------------------+-----+\n",
      "\n",
      "None\n"
     ]
    }
   ],
   "source": [
    "#Types of loan status\n",
    "print(df.groupBy('loan_status').count().show())"
   ]
  },
  {
   "cell_type": "code",
   "execution_count": 6,
   "id": "89e04af9-dcf0-4970-b605-97eda68bc89e",
   "metadata": {},
   "outputs": [
    {
     "data": {
      "image/png": "[encoded data removed]",
      "text/plain": [
       "<Figure size 864x288 with 1 Axes>"
      ]
     },
     "metadata": {
      "needs_background": "light"
     },
     "output_type": "display_data"
    }
   ],
   "source": [
    "df_plot = df.groupBy('loan_status').count().toPandas()\n",
    "plt.figure(figsize=(12,4))\n",
    "g = sns.barplot(x=\"loan_status\", y=\"count\", data=df_plot)\n",
    "g.set_title('Loan Status Category Counts')\n",
    "plt.show()"
   ]
  },
  {
   "cell_type": "markdown",
   "id": "85e56cc9-44a9-4e2b-8110-cae1afb643ed",
   "metadata": {},
   "source": [
    "We want to predict Default vs Non-Default Loan Applicants..."
   ]
  },
  {
   "cell_type": "markdown",
   "id": "ceb4c4fb-9a3c-427d-a5b6-474623540d24",
   "metadata": {},
   "source": [
    "#### Creating the Target Feature"
   ]
  },
  {
   "cell_type": "code",
   "execution_count": 7,
   "id": "5b9da99c-7aff-41bf-9672-0fee7f3255a0",
   "metadata": {},
   "outputs": [],
   "source": [
    "df = df.withColumn(\"label\", when((df[\"loan_status\"] == \"Charged Off\")|(df[\"loan_status\"] == \"Default\"), 1).otherwise(0))"
   ]
  },
  {
   "cell_type": "markdown",
   "id": "88a28f02-65c1-4777-bace-375ebf97480a",
   "metadata": {},
   "source": [
    "We start with a baseline...  we decide to start with only a few key features."
   ]
  },
  {
   "cell_type": "code",
   "execution_count": 8,
   "id": "02903b4a-ab6c-4147-9939-2bcb2c271cfc",
   "metadata": {},
   "outputs": [],
   "source": [
    "df = df.select(['acc_now_delinq', 'acc_open_past_24mths', 'annual_inc', 'avg_cur_bal', 'funded_amnt', 'label'])\n",
    "df = df.dropna()"
   ]
  },
  {
   "cell_type": "markdown",
   "id": "6f22a1a5-4896-4efd-a37f-fdafca58a581",
   "metadata": {},
   "source": [
    "#### Let's create a simple Baseline Model Pipeline"
   ]
  },
  {
   "cell_type": "code",
   "execution_count": 9,
   "id": "b0fbfb29-c955-4841-967c-bf9545dee37b",
   "metadata": {},
   "outputs": [],
   "source": [
    "train = df.sampleBy(\"label\", fractions={0: 0.8, 1: 0.8}, seed=10)"
   ]
  },
  {
   "cell_type": "code",
   "execution_count": 10,
   "id": "27725fd4-3295-4791-b67d-9de0364e1e81",
   "metadata": {},
   "outputs": [],
   "source": [
    "test = df.subtract(train)"
   ]
  },
  {
   "cell_type": "code",
   "execution_count": 17,
   "id": "980d3ef0-d671-4502-94ca-2fd5ac6b2d40",
   "metadata": {},
   "outputs": [
    {
     "data": {
      "text/plain": [
       "[('acc_now_delinq', 'string'),\n",
       " ('acc_open_past_24mths', 'string'),\n",
       " ('annual_inc', 'string'),\n",
       " ('avg_cur_bal', 'string'),\n",
       " ('funded_amnt', 'string'),\n",
       " ('label', 'int')]"
      ]
     },
     "execution_count": 17,
     "metadata": {},
     "output_type": "execute_result"
    }
   ],
   "source": [
    "train.dtypes"
   ]
  },
  {
   "cell_type": "code",
   "execution_count": 11,
   "id": "011ba0aa-ebe7-4481-8163-094d7de04a8f",
   "metadata": {},
   "outputs": [],
   "source": [
    "import random\n",
    "import numpy as np\n",
    "from pyspark.sql import Row\n",
    "from sklearn import neighbors\n",
    "from pyspark.ml.feature import VectorAssembler\n",
    "from pyspark.mllib.stat import Statistics\n",
    "from pyspark.ml.evaluation import BinaryClassificationEvaluator\n",
    "from pyspark.ml.classification import LogisticRegression\n",
    "from pyspark.ml.tuning import ParamGridBuilder, TrainValidationSplit\n",
    "from pyspark.ml.feature import StringIndexer, VectorAssembler, StandardScaler\n",
    "from pyspark.ml import Pipeline\n",
    "from pyspark.mllib.stat import Statistics\n",
    "from pyspark.ml.linalg import DenseVector\n",
    "from pyspark.sql import functions as F"
   ]
  },
  {
   "cell_type": "code",
   "execution_count": 12,
   "id": "147a4c60-c2be-48ca-baf3-1e0cf521f37b",
   "metadata": {},
   "outputs": [],
   "source": [
    "from handyspark import *"
   ]
  },
  {
   "cell_type": "code",
   "execution_count": 51,
   "id": "4d87d220-7641-4fd9-bc2f-e48c9c73d8d8",
   "metadata": {},
   "outputs": [],
   "source": [
    "#Creates a Pipeline Object including One Hot Encoding of Categorical Features  \n",
    "def make_pipeline(spark_df):        \n",
    "     \n",
    "    for c in spark_df.columns:\n",
    "        spark_df = spark_df.withColumn(c, spark_df[c].cast(\"float\"))\n",
    "    \n",
    "    stages= []\n",
    "\n",
    "    cols = ['acc_now_delinq', 'acc_open_past_24mths', 'annual_inc', 'avg_cur_bal', 'funded_amnt']\n",
    "    \n",
    "    #Assembling mixed data type transformations:\n",
    "    assembler = VectorAssembler(inputCols=cols, outputCol=\"features\").setHandleInvalid(\"skip\")\n",
    "    stages += [assembler]    \n",
    "    \n",
    "    #Scaling features\n",
    "    scaler = StandardScaler(inputCol=\"features\", outputCol=\"scaledFeatures\", withStd=True, withMean=True)\n",
    "    stages += [scaler]\n",
    "    \n",
    "    #Logistic Regression\n",
    "    lr = LogisticRegression(featuresCol='scaledFeatures', labelCol='label', maxIter=100, regParam=0.0001, elasticNetParam=0.0001)\n",
    "    stages += [lr]\n",
    "    \n",
    "    #Creating and running the pipeline:\n",
    "    pipeline = Pipeline(stages=stages)\n",
    "    pipelineModel = pipeline.fit(spark_df)\n",
    "\n",
    "    return pipelineModel"
   ]
  },
  {
   "cell_type": "code",
   "execution_count": 52,
   "id": "79b242dc-6243-4d70-9881-d8a700619dbc",
   "metadata": {},
   "outputs": [],
   "source": [
    "pipelineModel = make_pipeline(train)"
   ]
  },
  {
   "cell_type": "code",
   "execution_count": 53,
   "id": "a3973fa7-6697-4faf-9e86-14b1099517d3",
   "metadata": {},
   "outputs": [],
   "source": [
    "def cols_to_float(df):\n",
    "    for c in df.columns:\n",
    "        df = df.withColumn(c, df[c].cast(\"float\"))\n",
    "    return df"
   ]
  },
  {
   "cell_type": "code",
   "execution_count": 54,
   "id": "3e64d79f-269e-4820-a68a-33c418e1efa9",
   "metadata": {},
   "outputs": [],
   "source": [
    "test = cols_to_float(test)\n",
    "clf_out_df = pipelineModel.transform(test)"
   ]
  },
  {
   "cell_type": "code",
   "execution_count": 55,
   "id": "c799a819-1102-470b-843b-8b4fd0b45fcf",
   "metadata": {},
   "outputs": [
    {
     "name": "stdout",
     "output_type": "stream",
     "text": [
      "+----------+-----+\n",
      "|prediction|count|\n",
      "+----------+-----+\n",
      "|       0.0|29169|\n",
      "|       1.0|   38|\n",
      "+----------+-----+\n",
      "\n"
     ]
    }
   ],
   "source": [
    "clf_out_df.select(\"label\", \"prediction\").groupby('prediction').count().show()"
   ]
  },
  {
   "cell_type": "code",
   "execution_count": 56,
   "id": "2c2ce97f-653a-44bb-8482-3c7d65a671e0",
   "metadata": {},
   "outputs": [
    {
     "name": "stdout",
     "output_type": "stream",
     "text": [
      "+-----+-----+\n",
      "|label|count|\n",
      "+-----+-----+\n",
      "|  1.0| 3882|\n",
      "|  0.0|25325|\n",
      "+-----+-----+\n",
      "\n"
     ]
    }
   ],
   "source": [
    "clf_out_df.select(\"label\", \"prediction\").groupby('label').count().show()"
   ]
  },
  {
   "cell_type": "code",
   "execution_count": 57,
   "id": "c044bb4a-ab6e-4ac5-aabf-a93760850f6f",
   "metadata": {},
   "outputs": [
    {
     "name": "stderr",
     "output_type": "stream",
     "text": [
      "/home/cdsw/.local/lib/python3.7/site-packages/pyspark/sql/context.py:127: FutureWarning: Deprecated in 3.0.0. Use SparkSession.builder.getOrCreate() instead.\n",
      "  FutureWarning\n"
     ]
    }
   ],
   "source": [
    "# Handy Spark Library \n",
    "# Creates instance of extended version of BinaryClassificationMetrics\n",
    "# using a DataFrame and its probability and label columns, as the output\n",
    "# from the classifier\n",
    "bcm = BinaryClassificationMetrics(clf_out_df, scoreCol='probability', labelCol='label')"
   ]
  },
  {
   "cell_type": "code",
   "execution_count": 58,
   "id": "42f980a2-c041-41e9-90fc-bb0805ee8a15",
   "metadata": {},
   "outputs": [
    {
     "name": "stderr",
     "output_type": "stream",
     "text": [
      "/home/cdsw/.local/lib/python3.7/site-packages/pyspark/sql/context.py:127: FutureWarning: Deprecated in 3.0.0. Use SparkSession.builder.getOrCreate() instead.\n",
      "  FutureWarning\n"
     ]
    },
    {
     "data": {
      "image/png": "[encoded data removed]",
      "text/plain": [
       "<Figure size 864x288 with 2 Axes>"
      ]
     },
     "metadata": {
      "needs_background": "light"
     },
     "output_type": "display_data"
    }
   ],
   "source": [
    "# Now we can PLOT both ROC and PR curves!\n",
    "fig, axs = plt.subplots(1, 2, figsize=(12, 4))\n",
    "bcm.plot_roc_curve(ax=axs[0])\n",
    "bcm.plot_pr_curve(ax=axs[1])\n",
    "plt.show()"
   ]
  },
  {
   "cell_type": "code",
   "execution_count": 59,
   "id": "d6963093-1163-4d6f-8ed8-c45a680c83f8",
   "metadata": {},
   "outputs": [],
   "source": [
    "def get_confusion_matrix(spark_df):\n",
    "\n",
    "    input_data = spark_df.rdd.map(lambda x: (x[\"label\"], x[\"prediction\"], float(x[\"probability\"][1])))\n",
    "    predictions = spark.createDataFrame(input_data, [\"label\", \"prediction\", \"probability\"])\n",
    "\n",
    "    y_true = predictions.select(['label']).collect()\n",
    "    y_pred = predictions.select(['prediction']).collect()\n",
    "\n",
    "    from sklearn.metrics import classification_report, confusion_matrix\n",
    "    print(classification_report(y_true, y_pred))\n",
    "    cf_matrix = confusion_matrix(y_true, y_pred, labels=None, sample_weight=None, normalize=None)\n",
    "    \n",
    "    import seaborn as sns\n",
    "    group_names = [\"True Neg\",\"False Pos\",\"False Neg\",\"True Pos\"]\n",
    "    group_counts = [\"{0:0.0f}\".format(value) for value in\n",
    "                    cf_matrix.flatten()]\n",
    "    group_percentages = [\"{0:.2%}\".format(value) for value in\n",
    "                         cf_matrix.flatten()/np.sum(cf_matrix)]\n",
    "    labels = [f\"{v1}\\n{v2}\\n{v3}\" for v1, v2, v3 in\n",
    "              zip(group_names,group_counts,group_percentages)]\n",
    "    labels = np.asarray(labels).reshape(2,2)\n",
    "    sns.heatmap(cf_matrix, annot=labels, fmt=\"\", cmap='Blues')\n"
   ]
  },
  {
   "cell_type": "code",
   "execution_count": 60,
   "id": "ac3a6122-5843-4acb-bc2a-d0c5bd9787b3",
   "metadata": {},
   "outputs": [
    {
     "name": "stdout",
     "output_type": "stream",
     "text": [
      "              precision    recall  f1-score   support\n",
      "\n",
      "         0.0       0.87      1.00      0.93     25325\n",
      "         1.0       0.47      0.00      0.01      3882\n",
      "\n",
      "    accuracy                           0.87     29207\n",
      "   macro avg       0.67      0.50      0.47     29207\n",
      "weighted avg       0.82      0.87      0.81     29207\n",
      "\n"
     ]
    },
    {
     "data": {
      "image/png": "[encoded data removed]",
      "text/plain": [
       "<Figure size 432x288 with 2 Axes>"
      ]
     },
     "metadata": {
      "needs_background": "light"
     },
     "output_type": "display_data"
    }
   ],
   "source": [
    "get_confusion_matrix(clf_out_df)"
   ]
  },
  {
   "cell_type": "markdown",
   "id": "ef804869-b74e-4afe-bc9d-f3b6155cbf95",
   "metadata": {},
   "source": [
    "#### Time to train the classifier on the original data and deploy our scoring pipeline with CML Jobs"
   ]
  },
  {
   "cell_type": "code",
   "execution_count": 61,
   "id": "a709fcb6-af1d-47d5-b4bf-0780a1b3fc8e",
   "metadata": {},
   "outputs": [],
   "source": [
    "def score_data(df):\n",
    "    \n",
    "    #Scoring on the entire dataset now\n",
    "    df = cols_to_float(df)\n",
    "    pipelineModel = make_pipeline(df)\n",
    "    scored_df = pipelineModel.transform(df)\n",
    "    scored_df = scored_df.select(\"acc_now_delinq\", \"acc_open_past_24mths\", \"annual_inc\", \"avg_cur_bal\", \"funded_amnt\", \"label\")\n",
    "\n",
    "    return scored_df, pipelineModel"
   ]
  },
  {
   "cell_type": "code",
   "execution_count": 62,
   "id": "295c9712-f78f-4b85-85be-da2d1d1bace6",
   "metadata": {},
   "outputs": [],
   "source": [
    "scored_df, pipelineModel = score_data(df)"
   ]
  },
  {
   "cell_type": "code",
   "execution_count": 63,
   "id": "7c066fe6-12b0-4fc6-ab8d-8888863d34a2",
   "metadata": {},
   "outputs": [
    {
     "name": "stdout",
     "output_type": "stream",
     "text": [
      "+--------------+--------------------+----------+-----------+-----------+-----+\n",
      "|acc_now_delinq|acc_open_past_24mths|annual_inc|avg_cur_bal|funded_amnt|label|\n",
      "+--------------+--------------------+----------+-----------+-----------+-----+\n",
      "|           0.0|                 8.0|   65000.0|    10086.0|    12000.0|  0.0|\n",
      "|           0.0|                 1.0|  150000.0|    61551.0|    25000.0|  0.0|\n",
      "|           0.0|                 8.0|   75000.0|     7176.0|    28000.0|  0.0|\n",
      "|           0.0|                 7.0|  175000.0|    51015.0|    30000.0|  0.0|\n",
      "+--------------+--------------------+----------+-----------+-----------+-----+\n",
      "only showing top 4 rows\n",
      "\n"
     ]
    }
   ],
   "source": [
    "#This is a sample of what we will save to the datawarehouse\n",
    "scored_df.show(4)"
   ]
  },
  {
   "cell_type": "markdown",
   "id": "7ce22a76-1a4d-42d5-a66e-3babb363eb95",
   "metadata": {},
   "source": [
    "#### We will store the classifier locally but we could also use other storage options (S3, ADLS, GCS, HDFS, Ozone, etc.)"
   ]
  },
  {
   "cell_type": "code",
   "execution_count": 94,
   "id": "3994581d-ddf7-43ab-95c5-49b031e63645",
   "metadata": {},
   "outputs": [],
   "source": [
    "def save_local_clf(clf_pipeline):\n",
    "    clf_pipeline.save(\"/home/cdsw/models\")\n",
    "\n",
    "def save_s3_clf(clf_pipeline):\n",
    "    #Saving pipeline to S3:\n",
    "    clf_pipeline.save(\"s3a://gd01-uat2/datalake/pdefusco/pipeline\")"
   ]
  },
  {
   "cell_type": "code",
   "execution_count": 95,
   "id": "d3406912-27cb-4a0e-a065-25a93d735e37",
   "metadata": {},
   "outputs": [
    {
     "ename": "Py4JJavaError",
     "evalue": "An error occurred while calling o3242.save.\n: java.io.IOException: Can't get Master Kerberos principal for use as renewer\n\tat org.apache.hadoop.mapreduce.security.TokenCache.obtainTokensForNamenodesInternal(TokenCache.java:134)\n\tat org.apache.hadoop.mapreduce.security.TokenCache.obtainTokensForNamenodesInternal(TokenCache.java:102)\n\tat org.apache.hadoop.mapreduce.security.TokenCache.obtainTokensForNamenodes(TokenCache.java:81)\n\tat org.apache.hadoop.mapred.FileOutputFormat.checkOutputSpecs(FileOutputFormat.java:126)\n\tat org.apache.spark.internal.io.HadoopMapRedWriteConfigUtil.assertConf(SparkHadoopWriter.scala:298)\n\tat org.apache.spark.internal.io.SparkHadoopWriter$.write(SparkHadoopWriter.scala:71)\n\tat org.apache.spark.rdd.PairRDDFunctions.$anonfun$saveAsHadoopDataset$1(PairRDDFunctions.scala:1090)\n\tat scala.runtime.java8.JFunction0$mcV$sp.apply(JFunction0$mcV$sp.java:23)\n\tat org.apache.spark.rdd.RDDOperationScope$.withScope(RDDOperationScope.scala:151)\n\tat org.apache.spark.rdd.RDDOperationScope$.withScope(RDDOperationScope.scala:112)\n\tat org.apache.spark.rdd.RDD.withScope(RDD.scala:414)\n\tat org.apache.spark.rdd.PairRDDFunctions.saveAsHadoopDataset(PairRDDFunctions.scala:1088)\n\tat org.apache.spark.rdd.PairRDDFunctions.$anonfun$saveAsHadoopFile$4(PairRDDFunctions.scala:1061)\n\tat scala.runtime.java8.JFunction0$mcV$sp.apply(JFunction0$mcV$sp.java:23)\n\tat org.apache.spark.rdd.RDDOperationScope$.withScope(RDDOperationScope.scala:151)\n\tat org.apache.spark.rdd.RDDOperationScope$.withScope(RDDOperationScope.scala:112)\n\tat org.apache.spark.rdd.RDD.withScope(RDD.scala:414)\n\tat org.apache.spark.rdd.PairRDDFunctions.saveAsHadoopFile(PairRDDFunctions.scala:1026)\n\tat org.apache.spark.rdd.PairRDDFunctions.$anonfun$saveAsHadoopFile$3(PairRDDFunctions.scala:1008)\n\tat scala.runtime.java8.JFunction0$mcV$sp.apply(JFunction0$mcV$sp.java:23)\n\tat org.apache.spark.rdd.RDDOperationScope$.withScope(RDDOperationScope.scala:151)\n\tat org.apache.spark.rdd.RDDOperationScope$.withScope(RDDOperationScope.scala:112)\n\tat org.apache.spark.rdd.RDD.withScope(RDD.scala:414)\n\tat org.apache.spark.rdd.PairRDDFunctions.saveAsHadoopFile(PairRDDFunctions.scala:1007)\n\tat org.apache.spark.rdd.PairRDDFunctions.$anonfun$saveAsHadoopFile$2(PairRDDFunctions.scala:964)\n\tat scala.runtime.java8.JFunction0$mcV$sp.apply(JFunction0$mcV$sp.java:23)\n\tat org.apache.spark.rdd.RDDOperationScope$.withScope(RDDOperationScope.scala:151)\n\tat org.apache.spark.rdd.RDDOperationScope$.withScope(RDDOperationScope.scala:112)\n\tat org.apache.spark.rdd.RDD.withScope(RDD.scala:414)\n\tat org.apache.spark.rdd.PairRDDFunctions.saveAsHadoopFile(PairRDDFunctions.scala:962)\n\tat org.apache.spark.rdd.RDD.$anonfun$saveAsTextFile$2(RDD.scala:1578)\n\tat scala.runtime.java8.JFunction0$mcV$sp.apply(JFunction0$mcV$sp.java:23)\n\tat org.apache.spark.rdd.RDDOperationScope$.withScope(RDDOperationScope.scala:151)\n\tat org.apache.spark.rdd.RDDOperationScope$.withScope(RDDOperationScope.scala:112)\n\tat org.apache.spark.rdd.RDD.withScope(RDD.scala:414)\n\tat org.apache.spark.rdd.RDD.saveAsTextFile(RDD.scala:1578)\n\tat org.apache.spark.rdd.RDD.$anonfun$saveAsTextFile$1(RDD.scala:1564)\n\tat scala.runtime.java8.JFunction0$mcV$sp.apply(JFunction0$mcV$sp.java:23)\n\tat org.apache.spark.rdd.RDDOperationScope$.withScope(RDDOperationScope.scala:151)\n\tat org.apache.spark.rdd.RDDOperationScope$.withScope(RDDOperationScope.scala:112)\n\tat org.apache.spark.rdd.RDD.withScope(RDD.scala:414)\n\tat org.apache.spark.rdd.RDD.saveAsTextFile(RDD.scala:1564)\n\tat org.apache.spark.ml.util.DefaultParamsWriter$.saveMetadata(ReadWrite.scala:413)\n\tat org.apache.spark.ml.Pipeline$SharedReadWrite$.$anonfun$saveImpl$1(Pipeline.scala:250)\n\tat org.apache.spark.ml.Pipeline$SharedReadWrite$.$anonfun$saveImpl$1$adapted(Pipeline.scala:247)\n\tat org.apache.spark.ml.util.Instrumentation$.$anonfun$instrumented$1(Instrumentation.scala:191)\n\tat scala.util.Try$.apply(Try.scala:213)\n\tat org.apache.spark.ml.util.Instrumentation$.instrumented(Instrumentation.scala:191)\n\tat org.apache.spark.ml.Pipeline$SharedReadWrite$.saveImpl(Pipeline.scala:247)\n\tat org.apache.spark.ml.PipelineModel$PipelineModelWriter.saveImpl(Pipeline.scala:346)\n\tat org.apache.spark.ml.util.MLWriter.save(ReadWrite.scala:168)\n\tat org.apache.spark.ml.PipelineModel$PipelineModelWriter.super$save(Pipeline.scala:344)\n\tat org.apache.spark.ml.PipelineModel$PipelineModelWriter.$anonfun$save$4(Pipeline.scala:344)\n\tat org.apache.spark.ml.MLEvents.withSaveInstanceEvent(events.scala:174)\n\tat org.apache.spark.ml.MLEvents.withSaveInstanceEvent$(events.scala:169)\n\tat org.apache.spark.ml.util.Instrumentation.withSaveInstanceEvent(Instrumentation.scala:42)\n\tat org.apache.spark.ml.PipelineModel$PipelineModelWriter.$anonfun$save$3(Pipeline.scala:344)\n\tat org.apache.spark.ml.PipelineModel$PipelineModelWriter.$anonfun$save$3$adapted(Pipeline.scala:344)\n\tat org.apache.spark.ml.util.Instrumentation$.$anonfun$instrumented$1(Instrumentation.scala:191)\n\tat scala.util.Try$.apply(Try.scala:213)\n\tat org.apache.spark.ml.util.Instrumentation$.instrumented(Instrumentation.scala:191)\n\tat org.apache.spark.ml.PipelineModel$PipelineModelWriter.save(Pipeline.scala:344)\n\tat sun.reflect.NativeMethodAccessorImpl.invoke0(Native Method)\n\tat sun.reflect.NativeMethodAccessorImpl.invoke(NativeMethodAccessorImpl.java:62)\n\tat sun.reflect.DelegatingMethodAccessorImpl.invoke(DelegatingMethodAccessorImpl.java:43)\n\tat java.lang.reflect.Method.invoke(Method.java:498)\n\tat py4j.reflection.MethodInvoker.invoke(MethodInvoker.java:244)\n\tat py4j.reflection.ReflectionEngine.invoke(ReflectionEngine.java:357)\n\tat py4j.Gateway.invoke(Gateway.java:282)\n\tat py4j.commands.AbstractCommand.invokeMethod(AbstractCommand.java:132)\n\tat py4j.commands.CallCommand.execute(CallCommand.java:79)\n\tat py4j.GatewayConnection.run(GatewayConnection.java:238)\n\tat java.lang.Thread.run(Thread.java:748)\n",
     "output_type": "error",
     "traceback": [
      "\u001b[0;31m---------------------------------------------------------------------------\u001b[0m",
      "\u001b[0;31mPy4JJavaError\u001b[0m                             Traceback (most recent call last)",
      "\u001b[0;32m<ipython-input-95-40661d55634f>\u001b[0m in \u001b[0;36m<module>\u001b[0;34m\u001b[0m\n\u001b[0;32m----> 1\u001b[0;31m \u001b[0msave_s3_clf\u001b[0m\u001b[0;34m(\u001b[0m\u001b[0mpipelineModel\u001b[0m\u001b[0;34m)\u001b[0m\u001b[0;34m\u001b[0m\u001b[0;34m\u001b[0m\u001b[0m\n\u001b[0m",
      "\u001b[0;32m<ipython-input-94-93a1238e733d>\u001b[0m in \u001b[0;36msave_s3_clf\u001b[0;34m(clf_pipeline)\u001b[0m\n\u001b[1;32m      4\u001b[0m \u001b[0;32mdef\u001b[0m \u001b[0msave_s3_clf\u001b[0m\u001b[0;34m(\u001b[0m\u001b[0mclf_pipeline\u001b[0m\u001b[0;34m)\u001b[0m\u001b[0;34m:\u001b[0m\u001b[0;34m\u001b[0m\u001b[0;34m\u001b[0m\u001b[0m\n\u001b[1;32m      5\u001b[0m     \u001b[0;31m#Saving pipeline to S3:\u001b[0m\u001b[0;34m\u001b[0m\u001b[0;34m\u001b[0m\u001b[0;34m\u001b[0m\u001b[0m\n\u001b[0;32m----> 6\u001b[0;31m     \u001b[0mclf_pipeline\u001b[0m\u001b[0;34m.\u001b[0m\u001b[0msave\u001b[0m\u001b[0;34m(\u001b[0m\u001b[0;34m\"s3a://gd01-uat2/datalake/pdefusco/pipeline\"\u001b[0m\u001b[0;34m)\u001b[0m\u001b[0;34m\u001b[0m\u001b[0;34m\u001b[0m\u001b[0m\n\u001b[0m",
      "\u001b[0;32m~/.local/lib/python3.7/site-packages/pyspark/ml/util.py\u001b[0m in \u001b[0;36msave\u001b[0;34m(self, path)\u001b[0m\n\u001b[1;32m    224\u001b[0m     \u001b[0;32mdef\u001b[0m \u001b[0msave\u001b[0m\u001b[0;34m(\u001b[0m\u001b[0mself\u001b[0m\u001b[0;34m,\u001b[0m \u001b[0mpath\u001b[0m\u001b[0;34m)\u001b[0m\u001b[0;34m:\u001b[0m\u001b[0;34m\u001b[0m\u001b[0;34m\u001b[0m\u001b[0m\n\u001b[1;32m    225\u001b[0m         \u001b[0;34m\"\"\"Save this ML instance to the given path, a shortcut of 'write().save(path)'.\"\"\"\u001b[0m\u001b[0;34m\u001b[0m\u001b[0;34m\u001b[0m\u001b[0m\n\u001b[0;32m--> 226\u001b[0;31m         \u001b[0mself\u001b[0m\u001b[0;34m.\u001b[0m\u001b[0mwrite\u001b[0m\u001b[0;34m(\u001b[0m\u001b[0;34m)\u001b[0m\u001b[0;34m.\u001b[0m\u001b[0msave\u001b[0m\u001b[0;34m(\u001b[0m\u001b[0mpath\u001b[0m\u001b[0;34m)\u001b[0m\u001b[0;34m\u001b[0m\u001b[0;34m\u001b[0m\u001b[0m\n\u001b[0m\u001b[1;32m    227\u001b[0m \u001b[0;34m\u001b[0m\u001b[0m\n\u001b[1;32m    228\u001b[0m \u001b[0;34m\u001b[0m\u001b[0m\n",
      "\u001b[0;32m~/.local/lib/python3.7/site-packages/pyspark/ml/util.py\u001b[0m in \u001b[0;36msave\u001b[0;34m(self, path)\u001b[0m\n\u001b[1;32m    175\u001b[0m         \u001b[0;32mif\u001b[0m \u001b[0;32mnot\u001b[0m \u001b[0misinstance\u001b[0m\u001b[0;34m(\u001b[0m\u001b[0mpath\u001b[0m\u001b[0;34m,\u001b[0m \u001b[0mstr\u001b[0m\u001b[0;34m)\u001b[0m\u001b[0;34m:\u001b[0m\u001b[0;34m\u001b[0m\u001b[0;34m\u001b[0m\u001b[0m\n\u001b[1;32m    176\u001b[0m             \u001b[0;32mraise\u001b[0m \u001b[0mTypeError\u001b[0m\u001b[0;34m(\u001b[0m\u001b[0;34m\"path should be a string, got type %s\"\u001b[0m \u001b[0;34m%\u001b[0m \u001b[0mtype\u001b[0m\u001b[0;34m(\u001b[0m\u001b[0mpath\u001b[0m\u001b[0;34m)\u001b[0m\u001b[0;34m)\u001b[0m\u001b[0;34m\u001b[0m\u001b[0;34m\u001b[0m\u001b[0m\n\u001b[0;32m--> 177\u001b[0;31m         \u001b[0mself\u001b[0m\u001b[0;34m.\u001b[0m\u001b[0m_jwrite\u001b[0m\u001b[0;34m.\u001b[0m\u001b[0msave\u001b[0m\u001b[0;34m(\u001b[0m\u001b[0mpath\u001b[0m\u001b[0;34m)\u001b[0m\u001b[0;34m\u001b[0m\u001b[0;34m\u001b[0m\u001b[0m\n\u001b[0m\u001b[1;32m    178\u001b[0m \u001b[0;34m\u001b[0m\u001b[0m\n\u001b[1;32m    179\u001b[0m     \u001b[0;32mdef\u001b[0m \u001b[0moverwrite\u001b[0m\u001b[0;34m(\u001b[0m\u001b[0mself\u001b[0m\u001b[0;34m)\u001b[0m\u001b[0;34m:\u001b[0m\u001b[0;34m\u001b[0m\u001b[0;34m\u001b[0m\u001b[0m\n",
      "\u001b[0;32m~/.local/lib/python3.7/site-packages/py4j/java_gateway.py\u001b[0m in \u001b[0;36m__call__\u001b[0;34m(self, *args)\u001b[0m\n\u001b[1;32m   1308\u001b[0m         \u001b[0manswer\u001b[0m \u001b[0;34m=\u001b[0m \u001b[0mself\u001b[0m\u001b[0;34m.\u001b[0m\u001b[0mgateway_client\u001b[0m\u001b[0;34m.\u001b[0m\u001b[0msend_command\u001b[0m\u001b[0;34m(\u001b[0m\u001b[0mcommand\u001b[0m\u001b[0;34m)\u001b[0m\u001b[0;34m\u001b[0m\u001b[0;34m\u001b[0m\u001b[0m\n\u001b[1;32m   1309\u001b[0m         return_value = get_return_value(\n\u001b[0;32m-> 1310\u001b[0;31m             answer, self.gateway_client, self.target_id, self.name)\n\u001b[0m\u001b[1;32m   1311\u001b[0m \u001b[0;34m\u001b[0m\u001b[0m\n\u001b[1;32m   1312\u001b[0m         \u001b[0;32mfor\u001b[0m \u001b[0mtemp_arg\u001b[0m \u001b[0;32min\u001b[0m \u001b[0mtemp_args\u001b[0m\u001b[0;34m:\u001b[0m\u001b[0;34m\u001b[0m\u001b[0;34m\u001b[0m\u001b[0m\n",
      "\u001b[0;32m~/.local/lib/python3.7/site-packages/pyspark/sql/utils.py\u001b[0m in \u001b[0;36mdeco\u001b[0;34m(*a, **kw)\u001b[0m\n\u001b[1;32m    109\u001b[0m     \u001b[0;32mdef\u001b[0m \u001b[0mdeco\u001b[0m\u001b[0;34m(\u001b[0m\u001b[0;34m*\u001b[0m\u001b[0ma\u001b[0m\u001b[0;34m,\u001b[0m \u001b[0;34m**\u001b[0m\u001b[0mkw\u001b[0m\u001b[0;34m)\u001b[0m\u001b[0;34m:\u001b[0m\u001b[0;34m\u001b[0m\u001b[0;34m\u001b[0m\u001b[0m\n\u001b[1;32m    110\u001b[0m         \u001b[0;32mtry\u001b[0m\u001b[0;34m:\u001b[0m\u001b[0;34m\u001b[0m\u001b[0;34m\u001b[0m\u001b[0m\n\u001b[0;32m--> 111\u001b[0;31m             \u001b[0;32mreturn\u001b[0m \u001b[0mf\u001b[0m\u001b[0;34m(\u001b[0m\u001b[0;34m*\u001b[0m\u001b[0ma\u001b[0m\u001b[0;34m,\u001b[0m \u001b[0;34m**\u001b[0m\u001b[0mkw\u001b[0m\u001b[0;34m)\u001b[0m\u001b[0;34m\u001b[0m\u001b[0;34m\u001b[0m\u001b[0m\n\u001b[0m\u001b[1;32m    112\u001b[0m         \u001b[0;32mexcept\u001b[0m \u001b[0mpy4j\u001b[0m\u001b[0;34m.\u001b[0m\u001b[0mprotocol\u001b[0m\u001b[0;34m.\u001b[0m\u001b[0mPy4JJavaError\u001b[0m \u001b[0;32mas\u001b[0m \u001b[0me\u001b[0m\u001b[0;34m:\u001b[0m\u001b[0;34m\u001b[0m\u001b[0;34m\u001b[0m\u001b[0m\n\u001b[1;32m    113\u001b[0m             \u001b[0mconverted\u001b[0m \u001b[0;34m=\u001b[0m \u001b[0mconvert_exception\u001b[0m\u001b[0;34m(\u001b[0m\u001b[0me\u001b[0m\u001b[0;34m.\u001b[0m\u001b[0mjava_exception\u001b[0m\u001b[0;34m)\u001b[0m\u001b[0;34m\u001b[0m\u001b[0;34m\u001b[0m\u001b[0m\n",
      "\u001b[0;32m~/.local/lib/python3.7/site-packages/py4j/protocol.py\u001b[0m in \u001b[0;36mget_return_value\u001b[0;34m(answer, gateway_client, target_id, name)\u001b[0m\n\u001b[1;32m    326\u001b[0m                 raise Py4JJavaError(\n\u001b[1;32m    327\u001b[0m                     \u001b[0;34m\"An error occurred while calling {0}{1}{2}.\\n\"\u001b[0m\u001b[0;34m.\u001b[0m\u001b[0;34m\u001b[0m\u001b[0;34m\u001b[0m\u001b[0m\n\u001b[0;32m--> 328\u001b[0;31m                     format(target_id, \".\", name), value)\n\u001b[0m\u001b[1;32m    329\u001b[0m             \u001b[0;32melse\u001b[0m\u001b[0;34m:\u001b[0m\u001b[0;34m\u001b[0m\u001b[0;34m\u001b[0m\u001b[0m\n\u001b[1;32m    330\u001b[0m                 raise Py4JError(\n",
      "\u001b[0;31mPy4JJavaError\u001b[0m: An error occurred while calling o3242.save.\n: java.io.IOException: Can't get Master Kerberos principal for use as renewer\n\tat org.apache.hadoop.mapreduce.security.TokenCache.obtainTokensForNamenodesInternal(TokenCache.java:134)\n\tat org.apache.hadoop.mapreduce.security.TokenCache.obtainTokensForNamenodesInternal(TokenCache.java:102)\n\tat org.apache.hadoop.mapreduce.security.TokenCache.obtainTokensForNamenodes(TokenCache.java:81)\n\tat org.apache.hadoop.mapred.FileOutputFormat.checkOutputSpecs(FileOutputFormat.java:126)\n\tat org.apache.spark.internal.io.HadoopMapRedWriteConfigUtil.assertConf(SparkHadoopWriter.scala:298)\n\tat org.apache.spark.internal.io.SparkHadoopWriter$.write(SparkHadoopWriter.scala:71)\n\tat org.apache.spark.rdd.PairRDDFunctions.$anonfun$saveAsHadoopDataset$1(PairRDDFunctions.scala:1090)\n\tat scala.runtime.java8.JFunction0$mcV$sp.apply(JFunction0$mcV$sp.java:23)\n\tat org.apache.spark.rdd.RDDOperationScope$.withScope(RDDOperationScope.scala:151)\n\tat org.apache.spark.rdd.RDDOperationScope$.withScope(RDDOperationScope.scala:112)\n\tat org.apache.spark.rdd.RDD.withScope(RDD.scala:414)\n\tat org.apache.spark.rdd.PairRDDFunctions.saveAsHadoopDataset(PairRDDFunctions.scala:1088)\n\tat org.apache.spark.rdd.PairRDDFunctions.$anonfun$saveAsHadoopFile$4(PairRDDFunctions.scala:1061)\n\tat scala.runtime.java8.JFunction0$mcV$sp.apply(JFunction0$mcV$sp.java:23)\n\tat org.apache.spark.rdd.RDDOperationScope$.withScope(RDDOperationScope.scala:151)\n\tat org.apache.spark.rdd.RDDOperationScope$.withScope(RDDOperationScope.scala:112)\n\tat org.apache.spark.rdd.RDD.withScope(RDD.scala:414)\n\tat org.apache.spark.rdd.PairRDDFunctions.saveAsHadoopFile(PairRDDFunctions.scala:1026)\n\tat org.apache.spark.rdd.PairRDDFunctions.$anonfun$saveAsHadoopFile$3(PairRDDFunctions.scala:1008)\n\tat scala.runtime.java8.JFunction0$mcV$sp.apply(JFunction0$mcV$sp.java:23)\n\tat org.apache.spark.rdd.RDDOperationScope$.withScope(RDDOperationScope.scala:151)\n\tat org.apache.spark.rdd.RDDOperationScope$.withScope(RDDOperationScope.scala:112)\n\tat org.apache.spark.rdd.RDD.withScope(RDD.scala:414)\n\tat org.apache.spark.rdd.PairRDDFunctions.saveAsHadoopFile(PairRDDFunctions.scala:1007)\n\tat org.apache.spark.rdd.PairRDDFunctions.$anonfun$saveAsHadoopFile$2(PairRDDFunctions.scala:964)\n\tat scala.runtime.java8.JFunction0$mcV$sp.apply(JFunction0$mcV$sp.java:23)\n\tat org.apache.spark.rdd.RDDOperationScope$.withScope(RDDOperationScope.scala:151)\n\tat org.apache.spark.rdd.RDDOperationScope$.withScope(RDDOperationScope.scala:112)\n\tat org.apache.spark.rdd.RDD.withScope(RDD.scala:414)\n\tat org.apache.spark.rdd.PairRDDFunctions.saveAsHadoopFile(PairRDDFunctions.scala:962)\n\tat org.apache.spark.rdd.RDD.$anonfun$saveAsTextFile$2(RDD.scala:1578)\n\tat scala.runtime.java8.JFunction0$mcV$sp.apply(JFunction0$mcV$sp.java:23)\n\tat org.apache.spark.rdd.RDDOperationScope$.withScope(RDDOperationScope.scala:151)\n\tat org.apache.spark.rdd.RDDOperationScope$.withScope(RDDOperationScope.scala:112)\n\tat org.apache.spark.rdd.RDD.withScope(RDD.scala:414)\n\tat org.apache.spark.rdd.RDD.saveAsTextFile(RDD.scala:1578)\n\tat org.apache.spark.rdd.RDD.$anonfun$saveAsTextFile$1(RDD.scala:1564)\n\tat scala.runtime.java8.JFunction0$mcV$sp.apply(JFunction0$mcV$sp.java:23)\n\tat org.apache.spark.rdd.RDDOperationScope$.withScope(RDDOperationScope.scala:151)\n\tat org.apache.spark.rdd.RDDOperationScope$.withScope(RDDOperationScope.scala:112)\n\tat org.apache.spark.rdd.RDD.withScope(RDD.scala:414)\n\tat org.apache.spark.rdd.RDD.saveAsTextFile(RDD.scala:1564)\n\tat org.apache.spark.ml.util.DefaultParamsWriter$.saveMetadata(ReadWrite.scala:413)\n\tat org.apache.spark.ml.Pipeline$SharedReadWrite$.$anonfun$saveImpl$1(Pipeline.scala:250)\n\tat org.apache.spark.ml.Pipeline$SharedReadWrite$.$anonfun$saveImpl$1$adapted(Pipeline.scala:247)\n\tat org.apache.spark.ml.util.Instrumentation$.$anonfun$instrumented$1(Instrumentation.scala:191)\n\tat scala.util.Try$.apply(Try.scala:213)\n\tat org.apache.spark.ml.util.Instrumentation$.instrumented(Instrumentation.scala:191)\n\tat org.apache.spark.ml.Pipeline$SharedReadWrite$.saveImpl(Pipeline.scala:247)\n\tat org.apache.spark.ml.PipelineModel$PipelineModelWriter.saveImpl(Pipeline.scala:346)\n\tat org.apache.spark.ml.util.MLWriter.save(ReadWrite.scala:168)\n\tat org.apache.spark.ml.PipelineModel$PipelineModelWriter.super$save(Pipeline.scala:344)\n\tat org.apache.spark.ml.PipelineModel$PipelineModelWriter.$anonfun$save$4(Pipeline.scala:344)\n\tat org.apache.spark.ml.MLEvents.withSaveInstanceEvent(events.scala:174)\n\tat org.apache.spark.ml.MLEvents.withSaveInstanceEvent$(events.scala:169)\n\tat org.apache.spark.ml.util.Instrumentation.withSaveInstanceEvent(Instrumentation.scala:42)\n\tat org.apache.spark.ml.PipelineModel$PipelineModelWriter.$anonfun$save$3(Pipeline.scala:344)\n\tat org.apache.spark.ml.PipelineModel$PipelineModelWriter.$anonfun$save$3$adapted(Pipeline.scala:344)\n\tat org.apache.spark.ml.util.Instrumentation$.$anonfun$instrumented$1(Instrumentation.scala:191)\n\tat scala.util.Try$.apply(Try.scala:213)\n\tat org.apache.spark.ml.util.Instrumentation$.instrumented(Instrumentation.scala:191)\n\tat org.apache.spark.ml.PipelineModel$PipelineModelWriter.save(Pipeline.scala:344)\n\tat sun.reflect.NativeMethodAccessorImpl.invoke0(Native Method)\n\tat sun.reflect.NativeMethodAccessorImpl.invoke(NativeMethodAccessorImpl.java:62)\n\tat sun.reflect.DelegatingMethodAccessorImpl.invoke(DelegatingMethodAccessorImpl.java:43)\n\tat java.lang.reflect.Method.invoke(Method.java:498)\n\tat py4j.reflection.MethodInvoker.invoke(MethodInvoker.java:244)\n\tat py4j.reflection.ReflectionEngine.invoke(ReflectionEngine.java:357)\n\tat py4j.Gateway.invoke(Gateway.java:282)\n\tat py4j.commands.AbstractCommand.invokeMethod(AbstractCommand.java:132)\n\tat py4j.commands.CallCommand.execute(CallCommand.java:79)\n\tat py4j.GatewayConnection.run(GatewayConnection.java:238)\n\tat java.lang.Thread.run(Thread.java:748)\n"
     ]
    }
   ],
   "source": [
    "save_s3_clf(pipelineModel)"
   ]
  },
  {
   "cell_type": "markdown",
   "id": "84fa7eb9-af68-4a88-89c8-bf501d283433",
   "metadata": {},
   "source": [
    "### We can save the Scored Dataset into an Iceberg Table"
   ]
  },
  {
   "cell_type": "markdown",
   "id": "55d1524e-c640-4ba6-8ce0-48ee0346ee04",
   "metadata": {},
   "source": [
    "### Notice that we retrained the model on the original dataset with the actual label. But we will create a new table replacing the label with the prediction. That is because our goal will be to score the model with fresh data, when it becomes available."
   ]
  },
  {
   "cell_type": "markdown",
   "id": "65d03b8f-f2eb-4f1f-88bc-1ae87c65dc8b",
   "metadata": {},
   "source": [
    "#### For the time being we will store the original labels in the prediction column. "
   ]
  },
  {
   "cell_type": "code",
   "execution_count": 64,
   "id": "b77b4951-fb99-4ab7-b854-74c1cdcd6946",
   "metadata": {},
   "outputs": [
    {
     "data": {
      "text/plain": [
       "DataFrame[]"
      ]
     },
     "execution_count": 64,
     "metadata": {},
     "output_type": "execute_result"
    }
   ],
   "source": [
    "# Saving the Spark Dataframe as an Iceberg table\n",
    "spark.sql(\"CREATE TABLE IF NOT EXISTS ice_cml (acc_now_delinq float, acc_open_past_24mths float, annual_inc float, avg_cur_bal float, funded_amnt float, prediction int) USING iceberg\")"
   ]
  },
  {
   "cell_type": "code",
   "execution_count": 65,
   "id": "072c7aee-692c-4db0-a183-9bb10f1120b5",
   "metadata": {},
   "outputs": [],
   "source": [
    "scored_df = scored_df.withColumnRenamed('label', 'prediction')"
   ]
  },
  {
   "cell_type": "code",
   "execution_count": 66,
   "id": "66422a43-f7a3-407e-8002-428a3c89118e",
   "metadata": {},
   "outputs": [],
   "source": [
    "scored_df.write.format(\"iceberg\").mode(\"overwrite\").save(\"default.ice_cml\")"
   ]
  },
  {
   "cell_type": "markdown",
   "id": "7cc67509-f906-40fd-af65-87d5036673dc",
   "metadata": {},
   "source": [
    "#### The table is automatically tracked by the Data Lake associated with the CML Workspace"
   ]
  },
  {
   "cell_type": "markdown",
   "id": "f85cb1ce-e595-45c1-b080-40c3accbd0b6",
   "metadata": {},
   "source": [
    "#### To check that a new entry for the table has been added to Atlas in the Data Lake, go back to the CDP Homepage and open Data Catalog. "
   ]
  },
  {
   "cell_type": "markdown",
   "id": "aa6bc771-6981-4472-a781-49d651144da8",
   "metadata": {},
   "source": [
    "#### Select the Data Lake (i.e. Cloud Environment) that your worskpace was built in. "
   ]
  },
  {
   "cell_type": "markdown",
   "id": "c45bc710-f08f-4279-bed0-cc7f9919ae40",
   "metadata": {},
   "source": [
    "![title](images/select-datacatalog.png)"
   ]
  },
  {
   "cell_type": "markdown",
   "id": "50fc4b88-e6ac-4555-b680-a7bca4cee876",
   "metadata": {},
   "source": [
    "#### Use the Atlas Search bar at the top to browse for the table and click on it"
   ]
  },
  {
   "cell_type": "markdown",
   "id": "85bd2de9-c4a2-4319-b352-0d65b355ca65",
   "metadata": {},
   "source": [
    "![title](images/cml-table-meta.png)"
   ]
  },
  {
   "cell_type": "markdown",
   "id": "835f11ac-83a2-4ef8-b19b-cbc0b5595602",
   "metadata": {},
   "source": [
    "#### Notice Atlas is tracking a lot of interesting Metadata including Table Attributes, Lineage, and a lot More. "
   ]
  },
  {
   "cell_type": "markdown",
   "id": "9030a4e6-3bf3-4bb0-92e4-fc3eb823ec02",
   "metadata": {},
   "source": [
    "![title](images/cml-table-inatlas.png)"
   ]
  },
  {
   "cell_type": "markdown",
   "id": "60edc32a-8eb9-4da1-a23a-93324658c70c",
   "metadata": {},
   "source": [
    "![title](images/cml-table-lineage.png)"
   ]
  },
  {
   "cell_type": "markdown",
   "id": "1b3a1116-c156-40f0-bf5e-23ebb5b35d8e",
   "metadata": {},
   "source": [
    "### The above lineage graph only shows data. CML allows you to track data and ML models in a single graph. This is done via a yml file. We will see how that works in the next Notebooks. "
   ]
  },
  {
   "cell_type": "markdown",
   "id": "ab60018e-69ce-4a07-9b39-7c1636d6a501",
   "metadata": {},
   "source": [
    "#### Finally, Atlas Metadata can be customized. For example, you could add custom entities to its entity model in order to ML specific transformations such as intermediate steps in a pipeline, or even custom methods. \n",
    "#### [This notebook](https://github.com/pdefusco/Data_Integration_wMachineLearning/blob/main/2_A_Atlas_Client_Example.ipynb) shows how you can use the Atlas Python Client to build custom lineage flows."
   ]
  },
  {
   "cell_type": "markdown",
   "id": "3b58c9aa-f8c7-4ca8-86f7-cf486cb17ef7",
   "metadata": {},
   "source": [
    "#### We are done with our Model Baseline. Next, launch the CICD.ipynb notebook to deploy this pipeline as CML Jobs using the CML API V2."
   ]
  }
 ],
 "metadata": {
  "kernelspec": {
   "display_name": "Python 3",
   "language": "python",
   "name": "python3"
  },
  "language_info": {
   "codemirror_mode": {
    "name": "ipython",
    "version": 3
   },
   "file_extension": ".py",
   "mimetype": "text/x-python",
   "name": "python",
   "nbconvert_exporter": "python",
   "pygments_lexer": "ipython3",
   "version": "3.7.11"
  }
 },
 "nbformat": 4,
 "nbformat_minor": 5
}
